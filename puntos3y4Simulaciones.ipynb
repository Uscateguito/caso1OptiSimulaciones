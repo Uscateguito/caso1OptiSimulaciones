{
  "cells": [
    {
      "attachments": {},
      "cell_type": "markdown",
      "metadata": {
        "id": "-XSX-RF_R84A"
      },
      "source": [
        "<center>\n",
        "<strong>\n",
        "Optimización y Simlaciones\n",
        "<br>\n",
        "Puntos 3 y 4\n",
        "</strong>\n",
        "</center>\n",
        "\n",
        "___\n",
        "\n",
        "<center>\n",
        "<strong>\n",
        "Grupo 1\n",
        "<br>\n",
        "Dijkstra\n",
        "</strong>\n",
        "</center>\n",
        "\n",
        "___\n",
        "\n",
        "*El algoritmo debe ser ejecutado de manera secuencial*\n"
      ]
    },
    {
      "attachments": {},
      "cell_type": "markdown",
      "metadata": {
        "id": "aKAxKwt1VFzd"
      },
      "source": [
        "## Importar pandas para convertir CSV"
      ]
    },
    {
      "cell_type": "code",
      "execution_count": 2,
      "metadata": {
        "id": "9o9jKI2lVIkv"
      },
      "outputs": [],
      "source": [
        "import pandas as pd\n",
        "import sys"
      ]
    },
    {
      "attachments": {},
      "cell_type": "markdown",
      "metadata": {
        "id": "e0b4y2HvTUTo"
      },
      "source": [
        "## Creación del grafo por matriz de adyacencia"
      ]
    },
    {
      "cell_type": "code",
      "execution_count": 3,
      "metadata": {
        "id": "BUI7ZW8sXgnE"
      },
      "outputs": [],
      "source": [
        "matrizcsv = pd.read_csv(\"Matrices en CSV/costosDijkstra.csv\", sep = \";\", encoding = 'utf-8', header = None)\n",
        "matrix = matrizcsv.to_numpy()\n",
        "numeroVertices = len(matrix)"
      ]
    },
    {
      "cell_type": "code",
      "execution_count": null,
      "metadata": {
        "colab": {
          "base_uri": "https://localhost:8080/"
        },
        "id": "6VHZL5_JbKw7",
        "outputId": "29debe33-9b73-4fee-e522-c99649e80816"
      },
      "outputs": [],
      "source": [
        "matrix #Costs matrix"
      ]
    },
    {
      "cell_type": "code",
      "execution_count": 4,
      "metadata": {
        "id": "WPCZPrhflxCM"
      },
      "outputs": [],
      "source": [
        "vectorcsvCostosxNodo = pd.read_csv(\"Matrices en CSV/costosNodos.csv\", sep = \" \", encoding = 'utf-8', header = None)\n",
        "costosxNodo = vectorcsvCostosxNodo[0].to_numpy()"
      ]
    },
    {
      "cell_type": "code",
      "execution_count": null,
      "metadata": {
        "colab": {
          "base_uri": "https://localhost:8080/"
        },
        "id": "AyUqVWXAmJwZ",
        "outputId": "3e309fdb-5ae9-4ff4-f413-17f6df27316b"
      },
      "outputs": [],
      "source": [
        "costosxNodo"
      ]
    },
    {
      "attachments": {},
      "cell_type": "markdown",
      "metadata": {
        "id": "6QWxqqZUc-kN"
      },
      "source": [
        "## Métodos"
      ]
    },
    {
      "attachments": {},
      "cell_type": "markdown",
      "metadata": {
        "id": "BIIqIXbxwrq6"
      },
      "source": [
        "*Buscamos el vértice con la distancia mínima de los vértices vecinos*"
      ]
    },
    {
      "cell_type": "code",
      "execution_count": 5,
      "metadata": {
        "id": "p_h05WCrxGjm"
      },
      "outputs": [],
      "source": [
        "def minDistance(numeroVertices, distancias, camino):\n",
        "  min = sys.maxsize\n",
        "  for i in range(numeroVertices):\n",
        "    if distancias[i] < min and camino[i] == False:\n",
        "      min = distancias[i]\n",
        "      index = i\n",
        "\n",
        "  return index"
      ]
    },
    {
      "attachments": {},
      "cell_type": "markdown",
      "metadata": {
        "id": "Lpkd7DeHwbz8"
      },
      "source": [
        "*Mostramos el camino de nodo padre a nodo hijo*"
      ]
    },
    {
      "cell_type": "code",
      "execution_count": 1,
      "metadata": {
        "id": "CUGpR6YcxtZ4"
      },
      "outputs": [],
      "source": [
        "def printFlow(nodoPadre, i): \n",
        "  if nodoPadre[i] == -1: \n",
        "    return\n",
        "  printFlow(nodoPadre, nodoPadre[i])\n",
        "  print(\" \", i + 1, end = \"\")"
      ]
    },
    {
      "attachments": {},
      "cell_type": "markdown",
      "metadata": {
        "id": "U09-DkZXxLCG"
      },
      "source": [
        "*Dijkstra*"
      ]
    },
    {
      "cell_type": "code",
      "execution_count": 8,
      "metadata": {
        "id": "cNIIhpQadA02"
      },
      "outputs": [],
      "source": [
        "def dijkstra(numeroVertices, matrix, origen, destino, costosxNodo):\n",
        "  distancias = [sys.maxsize for column in range(numeroVertices)]\n",
        "  distancias[0] = 0\n",
        "  camino = [False for column in range(numeroVertices)]\n",
        "  pathFlow = [-1 for column in range(numeroVertices)]\n",
        "  totalCost = 0\n",
        "\n",
        "  for j in range(numeroVertices):\n",
        "    x = minDistance(numeroVertices, distancias, camino)\n",
        "    camino[x] = True\n",
        "\n",
        "    for y in range(numeroVertices):\n",
        "      if matrix[x][y] > 0 and camino[y] == False and distancias[y] > distancias[x] + matrix[x][y] + costosxNodo[x]:\n",
        "        distancias[y] = distancias[x] + matrix[x][y] + costosxNodo[x]\n",
        "        pathFlow[y] = x\n",
        "        if y == destino:\n",
        "          distancias[y] += costosxNodo[y]\n",
        "\n",
        "  totalCost = distancias[destino]\n",
        "\n",
        "  print(\"Nodo origen:\", origen + 1, \"\\nNodo destino: \", destino + 1)\n",
        "  print(\"Costo: \", totalCost)\n",
        "  print(\"Ruta: \", origen + 1, \"->\", end = \"\")\n",
        "  printFlow(pathFlow, destino)"
      ]
    },
    {
      "cell_type": "markdown",
      "metadata": {
        "id": "NtMaT7T_fz2d"
      },
      "source": [
        "## Ejecución"
      ]
    },
    {
      "cell_type": "code",
      "execution_count": 9,
      "metadata": {
        "colab": {
          "base_uri": "https://localhost:8080/"
        },
        "id": "jbLzsD2tfzZV",
        "outputId": "e74ce110-74b4-4ca6-cb38-497f9e1ac8e1"
      },
      "outputs": [
        {
          "name": "stdout",
          "output_type": "stream",
          "text": [
            "Nodo origen: 1 \n",
            "Nodo destino:  31\n",
            "Costo:  17.932594637\n",
            "Ruta:  1 ->  9  14  22  31"
          ]
        }
      ],
      "source": [
        "# Caso nodo 31\n",
        "origen = 0\n",
        "destino = 30\n",
        "dijkstra(numeroVertices, matrix, origen, destino, costosxNodo)"
      ]
    },
    {
      "cell_type": "code",
      "execution_count": 10,
      "metadata": {
        "colab": {
          "base_uri": "https://localhost:8080/"
        },
        "id": "6NLOGFpEZuib",
        "outputId": "b4c32fb7-22a9-4432-87bb-50e714808fcb"
      },
      "outputs": [
        {
          "name": "stdout",
          "output_type": "stream",
          "text": [
            "Nodo origen: 1 \n",
            "Nodo destino:  32\n",
            "Costo:  28.144171332\n",
            "Ruta:  1 ->  5  10  12  20  23  28  32"
          ]
        }
      ],
      "source": [
        "# Caso nodo 32\n",
        "origen = 0\n",
        "destino = 31\n",
        "dijkstra(numeroVertices, matrix, origen, destino, costosxNodo)"
      ]
    },
    {
      "attachments": {},
      "cell_type": "markdown",
      "metadata": {
        "id": "uV9IyZUvvgcv"
      },
      "source": [
        "*Algoritmo hecho con base al de https://www.geeksforgeeks.org/python-program-for-dijkstras-shortest-path-algorithm-greedy-algo-7/*"
      ]
    }
  ],
  "metadata": {
    "colab": {
      "provenance": []
    },
    "kernelspec": {
      "display_name": "Python 3",
      "name": "python3"
    },
    "language_info": {
      "codemirror_mode": {
        "name": "ipython",
        "version": 3
      },
      "file_extension": ".py",
      "mimetype": "text/x-python",
      "name": "python",
      "nbconvert_exporter": "python",
      "pygments_lexer": "ipython3",
      "version": "3.11.2"
    }
  },
  "nbformat": 4,
  "nbformat_minor": 0
}
