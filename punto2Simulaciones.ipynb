{
  "cells": [
    {
      "attachments": {},
      "cell_type": "markdown",
      "metadata": {
        "id": "hWvkDHCpwQQb"
      },
      "source": [
        "<center>\n",
        "<strong>\n",
        "Optimización y Simlaciones\n",
        "<br>\n",
        "Punto 2\n",
        "</strong>\n",
        "</center>\n",
        "\n",
        "___\n",
        "\n",
        "<center>\n",
        "<strong>\n",
        "Grupo 1\n",
        "<br>\n",
        "Ford-Fulkenson\n",
        "</strong>\n",
        "</center>\n",
        "\n",
        "___\n",
        "\n",
        "*El algoritmo debe ser ejecutado de manera secuencial*"
      ]
    },
    {
      "attachments": {},
      "cell_type": "markdown",
      "metadata": {
        "id": "aKAxKwt1VFzd"
      },
      "source": [
        "## Librerías necesarias"
      ]
    },
    {
      "cell_type": "code",
      "execution_count": 2,
      "metadata": {
        "id": "9o9jKI2lVIkv"
      },
      "outputs": [],
      "source": [
        "import pandas as pd\n",
        "import sys"
      ]
    },
    {
      "cell_type": "markdown",
      "metadata": {
        "id": "e0b4y2HvTUTo"
      },
      "source": [
        "## Creación de grafo"
      ]
    },
    {
      "cell_type": "code",
      "execution_count": 12,
      "metadata": {
        "id": "BUI7ZW8sXgnE"
      },
      "outputs": [],
      "source": [
        "matrizcsvCapacidades = pd.read_csv(\"Matrices en CSV/capacidadesmax.csv\", sep = \";\", encoding = 'utf-8', header = None)\n",
        "grafoCapacidades = matrizcsvCapacidades.to_numpy()\n",
        "numeroVertices = len(grafoCapacidades)"
      ]
    },
    {
      "cell_type": "code",
      "execution_count": 13,
      "metadata": {
        "colab": {
          "base_uri": "https://localhost:8080/"
        },
        "id": "6VHZL5_JbKw7",
        "outputId": "e1c438d0-861f-4f53-e5f3-f5c3fd1d20c4"
      },
      "outputs": [
        {
          "data": {
            "text/plain": [
              "array([[ 0,  0, 36, ...,  0,  0,  0],\n",
              "       [ 0,  0, 35, ...,  0,  0,  0],\n",
              "       [ 0,  0,  0, ...,  0,  0,  0],\n",
              "       ...,\n",
              "       [ 0,  0,  0, ...,  0,  0,  0],\n",
              "       [ 0,  0,  0, ..., 25,  0,  0],\n",
              "       [ 0,  0,  0, ...,  0,  0,  0]])"
            ]
          },
          "execution_count": 13,
          "metadata": {},
          "output_type": "execute_result"
        }
      ],
      "source": [
        "grafoCapacidades #grafoCapacidades matrix"
      ]
    },
    {
      "cell_type": "code",
      "execution_count": 14,
      "metadata": {
        "id": "2tTsq24qgyI4"
      },
      "outputs": [],
      "source": [
        "matrizcsvCostos = pd.read_csv(\"Matrices en CSV/costosmax.csv\", sep = \";\", encoding = 'utf-8', header = None)\n",
        "grafoCostos = matrizcsvCostos.to_numpy()\n",
        "numeroVertices = len(grafoCostos)"
      ]
    },
    {
      "cell_type": "code",
      "execution_count": 15,
      "metadata": {
        "colab": {
          "base_uri": "https://localhost:8080/"
        },
        "id": "eSAMI-bwgyI4",
        "outputId": "bc2a6cea-938d-457b-b3be-95845b98882e"
      },
      "outputs": [
        {
          "data": {
            "text/plain": [
              "array([[0.        , 0.        , 0.18229425, ..., 0.        , 0.        ,\n",
              "        0.        ],\n",
              "       [0.        , 0.        , 0.07669622, ..., 0.        , 0.        ,\n",
              "        0.        ],\n",
              "       [0.        , 0.        , 0.        , ..., 0.        , 0.        ,\n",
              "        0.        ],\n",
              "       ...,\n",
              "       [0.        , 0.        , 0.        , ..., 0.        , 0.        ,\n",
              "        0.        ],\n",
              "       [0.        , 0.        , 0.        , ..., 0.20142092, 0.        ,\n",
              "        0.        ],\n",
              "       [0.        , 0.        , 0.        , ..., 0.        , 0.        ,\n",
              "        0.        ]])"
            ]
          },
          "execution_count": 15,
          "metadata": {},
          "output_type": "execute_result"
        }
      ],
      "source": [
        "grafoCostos #grafoCostos matrix"
      ]
    },
    {
      "attachments": {},
      "cell_type": "markdown",
      "metadata": {
        "id": "6QWxqqZUc-kN"
      },
      "source": [
        "## Métodos"
      ]
    },
    {
      "attachments": {},
      "cell_type": "markdown",
      "metadata": {
        "id": "ALtdp3bMB3tE"
      },
      "source": [
        "*Comprabamos la relación entre el nodo origen y el nodo destino, si no hay, paramos el algo*"
      ]
    },
    {
      "cell_type": "code",
      "execution_count": 16,
      "metadata": {
        "id": "cNIIhpQadA02"
      },
      "outputs": [],
      "source": [
        "def bfs(grafoCapacidades, numeroVertices, origen, destino, nodoPadre):\n",
        "  visited = [False]*(numeroVertices)\n",
        "  queue = []\n",
        "  queue.append(origen)\n",
        "  visited[origen] = True\n",
        "\n",
        "  while queue:\n",
        "    u = queue.pop(0)\n",
        "\n",
        "    for ind, val in enumerate(grafoCapacidades[u]):\n",
        "      if visited[ind] == False and val > 0:\n",
        "        queue.append(ind)\n",
        "        visited[ind] = True\n",
        "        nodoPadre[ind] = u\n",
        "        if ind == destino:\n",
        "          return True\n",
        "\n",
        "  return False"
      ]
    },
    {
      "attachments": {},
      "cell_type": "markdown",
      "metadata": {
        "id": "VWlDEgXWFF1s"
      },
      "source": [
        "*Encontramos el flujo máximo del nodo origen al nodo destino utilizando el algoritmo Ford Fulkerson*"
      ]
    },
    {
      "cell_type": "code",
      "execution_count": 17,
      "metadata": {
        "id": "7_Mlk1tuFGzM"
      },
      "outputs": [],
      "source": [
        "def fordFulkerson(grafoCapacidades, grafoCostos, numeroVertices, origen, destino):\n",
        "  nodoPadre = [-1]*(numeroVertices)\n",
        "  flujoMaximo = 0\n",
        "  costoTotal = 0\n",
        "\n",
        "  while bfs(grafoCapacidades, numeroVertices, origen, destino, nodoPadre) :\n",
        "    camino = sys.maxsize\n",
        "    s = destino\n",
        "    while(s !=  origen):\n",
        "      camino = min (camino, grafoCapacidades[nodoPadre[s]][s])\n",
        "      s = nodoPadre[s]\n",
        "\n",
        "    flujoMaximo +=  camino\n",
        "    v = destino\n",
        "    while(v !=  origen):\n",
        "      u = nodoPadre[v]\n",
        "      costoTotal += (grafoCostos[u][v] * camino)\n",
        "      grafoCapacidades[u][v] -= camino\n",
        "      grafoCapacidades[v][u] += camino\n",
        "      v = nodoPadre[v]\n",
        "      \n",
        "  return flujoMaximo, costoTotal"
      ]
    },
    {
      "attachments": {},
      "cell_type": "markdown",
      "metadata": {
        "id": "NtMaT7T_fz2d"
      },
      "source": [
        "*Go*"
      ]
    },
    {
      "cell_type": "code",
      "execution_count": 18,
      "metadata": {
        "colab": {
          "base_uri": "https://localhost:8080/"
        },
        "id": "jbLzsD2tfzZV",
        "outputId": "43deed88-e6ee-431d-a1d6-c91cc58fd1ec"
      },
      "outputs": [
        {
          "name": "stdout",
          "output_type": "stream",
          "text": [
            "El tráfico máximo esta dado por:  154\n",
            "Con esto, el retardo es de:  277.654435013\n"
          ]
        }
      ],
      "source": [
        "flujoMaximo, costoTotal = fordFulkerson(grafoCapacidades, grafoCostos, numeroVertices, 0, numeroVertices - 1)\n",
        "print(\"El tráfico máximo esta dado por: \", flujoMaximo)\n",
        "print(\"Con esto, el retardo es de: \", costoTotal)"
      ]
    },
    {
      "cell_type": "markdown",
      "metadata": {
        "id": "z0yvD9roBO5C"
      },
      "source": [
        "*Algoritmo hecho con base al de este dios https://www.youtube.com/watch?v=_UcOALraATY*"
      ]
    }
  ],
  "metadata": {
    "colab": {
      "provenance": []
    },
    "kernelspec": {
      "display_name": "Python 3",
      "name": "python3"
    },
    "language_info": {
      "codemirror_mode": {
        "name": "ipython",
        "version": 3
      },
      "file_extension": ".py",
      "mimetype": "text/x-python",
      "name": "python",
      "nbconvert_exporter": "python",
      "pygments_lexer": "ipython3",
      "version": "3.11.2"
    }
  },
  "nbformat": 4,
  "nbformat_minor": 0
}
