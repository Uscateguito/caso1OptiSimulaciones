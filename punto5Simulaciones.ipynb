{
  "cells": [
    {
      "cell_type": "markdown",
      "metadata": {
        "id": "-XSX-RF_R84A"
      },
      "source": [
        "# Algoritmo de Dijkstra"
      ]
    },
    {
      "cell_type": "markdown",
      "metadata": {
        "id": "uV9IyZUvvgcv"
      },
      "source": [
        "###### Nota: Algoritmo adaptado de https://www.geeksforgeeks.org/python-program-for-dijkstras-shortest-path-algorithm-greedy-algo-7/"
      ]
    },
    {
      "cell_type": "markdown",
      "metadata": {
        "id": "aKAxKwt1VFzd"
      },
      "source": [
        "## Importar librerías"
      ]
    },
    {
      "cell_type": "code",
      "execution_count": 1,
      "metadata": {
        "id": "9o9jKI2lVIkv"
      },
      "outputs": [],
      "source": [
        "import pandas as pd\n",
        "import sys"
      ]
    },
    {
      "cell_type": "markdown",
      "metadata": {
        "id": "e0b4y2HvTUTo"
      },
      "source": [
        "## Creación de grafo"
      ]
    },
    {
      "cell_type": "code",
      "execution_count": 2,
      "metadata": {
        "id": "BUI7ZW8sXgnE"
      },
      "outputs": [],
      "source": [
        "df = pd.read_csv(\"Matrices en CSV/costosDijkstra.csv\", sep = \";\", encoding = 'utf-8', header = None)\n",
        "matrix = df.to_numpy()\n",
        "vertexNum = len(matrix)"
      ]
    },
    {
      "cell_type": "code",
      "execution_count": 3,
      "metadata": {
        "colab": {
          "base_uri": "https://localhost:8080/"
        },
        "id": "6VHZL5_JbKw7",
        "outputId": "a679a67e-0771-49be-c12f-931237a6cce5"
      },
      "outputs": [
        {
          "data": {
            "text/plain": [
              "array([[0.        , 0.        , 0.18229425, ..., 0.        , 0.        ,\n",
              "        0.        ],\n",
              "       [0.        , 0.        , 0.07669622, ..., 0.        , 0.        ,\n",
              "        0.        ],\n",
              "       [0.        , 0.        , 0.        , ..., 0.        , 0.        ,\n",
              "        0.        ],\n",
              "       ...,\n",
              "       [0.        , 0.        , 0.        , ..., 0.        , 0.39882676,\n",
              "        0.        ],\n",
              "       [0.        , 0.        , 0.        , ..., 0.        , 0.        ,\n",
              "        0.        ],\n",
              "       [0.        , 0.        , 0.        , ..., 0.34490101, 0.20142092,\n",
              "        0.        ]])"
            ]
          },
          "execution_count": 3,
          "metadata": {},
          "output_type": "execute_result"
        }
      ],
      "source": [
        "matrix #Costs matrix"
      ]
    },
    {
      "cell_type": "code",
      "execution_count": 5,
      "metadata": {
        "id": "WPCZPrhflxCM"
      },
      "outputs": [],
      "source": [
        "dfCN = pd.read_csv(\"Matrices en CSV/costosNodos.csv\", sep = \" \", encoding = 'utf-8', header = None)\n",
        "costsNodes = dfCN[0].to_numpy()"
      ]
    },
    {
      "cell_type": "code",
      "execution_count": null,
      "metadata": {
        "colab": {
          "base_uri": "https://localhost:8080/"
        },
        "id": "AyUqVWXAmJwZ",
        "outputId": "af0c2faa-5e83-4a5e-cd87-36f32abd9ada"
      },
      "outputs": [
        {
          "data": {
            "text/plain": [
              "array([5., 3., 2., 6., 2., 5., 7., 5., 2., 2., 7., 2., 5., 3., 4., 7., 3.,\n",
              "       6., 2., 3., 4., 5., 2., 6., 5., 5., 6., 7., 7., 4., 2., 3., 6., 5.,\n",
              "       6., 2.])"
            ]
          },
          "execution_count": 182,
          "metadata": {},
          "output_type": "execute_result"
        }
      ],
      "source": [
        "costsNodes"
      ]
    },
    {
      "cell_type": "markdown",
      "metadata": {
        "id": "6QWxqqZUc-kN"
      },
      "source": [
        "## Métodos útiles"
      ]
    },
    {
      "cell_type": "markdown",
      "metadata": {
        "id": "Lpkd7DeHwbz8"
      },
      "source": [
        "#### Imprimir el camino desde el nodo de origen al nodo de destino"
      ]
    },
    {
      "cell_type": "code",
      "execution_count": 6,
      "metadata": {
        "id": "CUGpR6YcxtZ4"
      },
      "outputs": [],
      "source": [
        "def printFlow(parent, i): \n",
        "  if parent[i] == -1: \n",
        "    return\n",
        "  printFlow(parent, parent[i])\n",
        "  print(\" \", i + 1, end = \"\")"
      ]
    },
    {
      "cell_type": "markdown",
      "metadata": {
        "id": "BIIqIXbxwrq6"
      },
      "source": [
        "#### Hallar el vértice con la mínima distancia de los vértices que aún no están en el camino más corto"
      ]
    },
    {
      "cell_type": "code",
      "execution_count": 7,
      "metadata": {
        "id": "p_h05WCrxGjm"
      },
      "outputs": [],
      "source": [
        "def minDistance(vertexNum, distances, pathSet):\n",
        "  min = sys.maxsize\n",
        "  for i in range(vertexNum):\n",
        "    if distances[i] < min and pathSet[i] == False:\n",
        "      min = distances[i]\n",
        "      index = i\n",
        "\n",
        "  return index"
      ]
    },
    {
      "cell_type": "markdown",
      "metadata": {
        "id": "U09-DkZXxLCG"
      },
      "source": [
        "#### Método que implementa el algoritmo de dijkstra"
      ]
    },
    {
      "cell_type": "code",
      "execution_count": 9,
      "metadata": {
        "id": "cNIIhpQadA02"
      },
      "outputs": [],
      "source": [
        "def dijkstra(vertexNum, matrix, source, dest, costsNodes):\n",
        "  found = False\n",
        "  while not found:\n",
        "    distances = [sys.maxsize for column in range(vertexNum)]\n",
        "    distances[0] = 0\n",
        "    pathSet = [False for column in range(vertexNum)]\n",
        "    pathFlow = [-1 for column in range(vertexNum)]\n",
        "    totalCost = 0\n",
        "\n",
        "    for j in range(vertexNum):\n",
        "      x = minDistance(vertexNum, distances, pathSet)\n",
        "      pathSet[x] = True\n",
        "\n",
        "      for y in range(vertexNum):\n",
        "        if matrix[x][y] > 0 and pathSet[y] == False and distances[y] > distances[x] + matrix[x][y]:\n",
        "          distances[y] = distances[x] + matrix[x][y]\n",
        "          pathFlow[y] = x\n",
        "\n",
        "    totalCost = distances[dest]\n",
        "\n",
        "    if totalCost > 1:\n",
        "      found = True\n",
        "    else:\n",
        "      current = dest\n",
        "      while current != source:\n",
        "        prev = pathFlow[current]\n",
        "        matrix[prev][current] = sys.maxsize\n",
        "        current = prev\n",
        "\n",
        "  finalCost = totalCost\n",
        "  current = dest\n",
        "  while current != source:\n",
        "    prev = pathFlow[current]\n",
        "    # print(prev + 1, costsNodes[prev])\n",
        "    finalCost += costsNodes[prev]\n",
        "    current = prev\n",
        "  finalCost += costsNodes[dest]\n",
        "\n",
        "  print(\"Nodo origen -> Nodo destino: \", source + 1, \"->\", dest + 1)\n",
        "  print(\"Costo sin retardo de nodos: \", totalCost)\n",
        "  print(\"Costo con retardo de nodos: \", finalCost)\n",
        "  print(\"Ruta: \", source + 1, end = \"\")\n",
        "  printFlow(pathFlow, dest)"
      ]
    },
    {
      "cell_type": "markdown",
      "metadata": {
        "id": "NtMaT7T_fz2d"
      },
      "source": [
        "## Ejecución"
      ]
    },
    {
      "cell_type": "code",
      "execution_count": 10,
      "metadata": {
        "colab": {
          "base_uri": "https://localhost:8080/"
        },
        "id": "jbLzsD2tfzZV",
        "outputId": "20a9acae-c486-422b-b62c-226ad2e9a242"
      },
      "outputs": [
        {
          "name": "stdout",
          "output_type": "stream",
          "text": [
            "Nodo origen -> Nodo destino:  1 -> 31\n",
            "Costo sin retardo de nodos:  1.076806522\n",
            "Costo con retardo de nodos:  31.076806522\n",
            "Ruta:  1  5  13  18  25  26  31"
          ]
        }
      ],
      "source": [
        "# Caso nodo 31\n",
        "source = 0\n",
        "dest = 30\n",
        "dijkstra(vertexNum, matrix, source, dest, costsNodes)"
      ]
    },
    {
      "cell_type": "code",
      "execution_count": 11,
      "metadata": {
        "colab": {
          "base_uri": "https://localhost:8080/"
        },
        "id": "6NLOGFpEZuib",
        "outputId": "3e1bf601-0f0c-4bea-d006-6f30a577b5c1"
      },
      "outputs": [
        {
          "name": "stdout",
          "output_type": "stream",
          "text": [
            "Nodo origen -> Nodo destino:  1 -> 32\n",
            "Costo sin retardo de nodos:  1.225727044\n",
            "Costo con retardo de nodos:  28.225727044\n",
            "Ruta:  1  9  14  22  31  28  32"
          ]
        }
      ],
      "source": [
        "# Caso nodo 32\n",
        "source = 0\n",
        "dest = 31\n",
        "matrix = df.to_numpy() #Reset matrix\n",
        "dijkstra(vertexNum, matrix, source, dest, costsNodes)"
      ]
    }
  ],
  "metadata": {
    "colab": {
      "provenance": []
    },
    "kernelspec": {
      "display_name": "Python 3",
      "name": "python3"
    },
    "language_info": {
      "codemirror_mode": {
        "name": "ipython",
        "version": 3
      },
      "file_extension": ".py",
      "mimetype": "text/x-python",
      "name": "python",
      "nbconvert_exporter": "python",
      "pygments_lexer": "ipython3",
      "version": "3.11.2"
    }
  },
  "nbformat": 4,
  "nbformat_minor": 0
}
