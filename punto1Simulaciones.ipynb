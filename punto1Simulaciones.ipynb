{
  "cells": [
    {
      "attachments": {},
      "cell_type": "markdown",
      "metadata": {
        "id": "-XSX-RF_R84A"
      },
      "source": [
        "<center>\n",
        "<strong>\n",
        "Optimización y Simlaciones\n",
        "<br>\n",
        "Punto 1 \n",
        "</strong>\n",
        "</center>\n",
        "\n",
        "___\n",
        "\n",
        "<center>\n",
        "<strong>\n",
        "Grupo 1\n",
        "<br>\n",
        "Cycle Cancelling\n",
        "</strong>\n",
        "</center>\n",
        "\n",
        "___\n",
        "\n",
        "*El algoritmo debe ser ejecutado de manera secuencial*"
      ]
    },
    {
      "attachments": {},
      "cell_type": "markdown",
      "metadata": {
        "id": "aKAxKwt1VFzd"
      },
      "source": [
        "## Librerías necesarias"
      ]
    },
    {
      "cell_type": "code",
      "execution_count": 3,
      "metadata": {
        "id": "9o9jKI2lVIkv"
      },
      "outputs": [],
      "source": [
        "import pandas as pd\n",
        "import sys\n",
        "import pprint\n",
        "import time"
      ]
    },
    {
      "cell_type": "markdown",
      "metadata": {
        "id": "e0b4y2HvTUTo"
      },
      "source": [
        "## Creación de grafo"
      ]
    },
    {
      "cell_type": "code",
      "execution_count": 4,
      "metadata": {
        "id": "BUI7ZW8sXgnE"
      },
      "outputs": [],
      "source": [
        "matrizcsvcapacidades = pd.read_csv(\"Matrices en CSV/capacidadescanciclos.csv\", sep = \";\", encoding = 'utf-8', header = None)\n",
        "grafoCapacidades = matrizcsvcapacidades.to_numpy()\n",
        "numeroVertices = len(grafoCapacidades)"
      ]
    },
    {
      "cell_type": "code",
      "execution_count": 5,
      "metadata": {
        "colab": {
          "base_uri": "https://localhost:8080/"
        },
        "id": "6VHZL5_JbKw7",
        "outputId": "b659fbd8-caf8-413a-efec-98d5c7380c8f"
      },
      "outputs": [
        {
          "data": {
            "text/plain": [
              "array([[ 0, 50,  0, ...,  0,  0,  0],\n",
              "       [ 0,  0,  0, ...,  0,  0,  0],\n",
              "       [ 0,  0,  0, ...,  0,  0,  0],\n",
              "       ...,\n",
              "       [ 0,  0,  0, ...,  0,  0,  0],\n",
              "       [ 0,  0,  0, ..., 25,  0,  0],\n",
              "       [ 0,  0,  0, ...,  0,  0,  0]])"
            ]
          },
          "execution_count": 5,
          "metadata": {},
          "output_type": "execute_result"
        }
      ],
      "source": [
        "grafoCapacidades"
      ]
    },
    {
      "cell_type": "markdown",
      "metadata": {
        "id": "d846mFkwUrem"
      },
      "source": [
        "#### Matriz de costos"
      ]
    },
    {
      "cell_type": "code",
      "execution_count": 6,
      "metadata": {
        "id": "0ull87czUuN7"
      },
      "outputs": [],
      "source": [
        "matrizcsvcostos = pd.read_csv(\"Matrices en CSV/costoscanciclos.csv\", sep = \";\", encoding = 'utf-8', header = None)\n",
        "grafoCostos = matrizcsvcostos.to_numpy()"
      ]
    },
    {
      "cell_type": "code",
      "execution_count": 7,
      "metadata": {
        "colab": {
          "base_uri": "https://localhost:8080/"
        },
        "id": "iMQAfsnCUuN9",
        "outputId": "823e1573-455c-4805-8316-6245ce288dfe"
      },
      "outputs": [
        {
          "data": {
            "text/plain": [
              "array([[0.        , 0.        , 0.        , ..., 0.        , 0.        ,\n",
              "        0.        ],\n",
              "       [0.        , 0.        , 0.        , ..., 0.        , 0.        ,\n",
              "        0.        ],\n",
              "       [0.        , 0.        , 0.        , ..., 0.        , 0.        ,\n",
              "        0.        ],\n",
              "       ...,\n",
              "       [0.        , 0.        , 0.        , ..., 0.        , 0.        ,\n",
              "        0.        ],\n",
              "       [0.        , 0.        , 0.        , ..., 0.20142092, 0.        ,\n",
              "        0.        ],\n",
              "       [0.        , 0.        , 0.        , ..., 0.        , 0.        ,\n",
              "        0.        ]])"
            ]
          },
          "execution_count": 7,
          "metadata": {},
          "output_type": "execute_result"
        }
      ],
      "source": [
        "grafoCostos"
      ]
    },
    {
      "attachments": {},
      "cell_type": "markdown",
      "metadata": {
        "id": "6QWxqqZUc-kN"
      },
      "source": [
        "## Métodos"
      ]
    },
    {
      "attachments": {},
      "cell_type": "markdown",
      "metadata": {
        "id": "M7dErLFuVb0O"
      },
      "source": [
        "*Comprabamos la relación entre el nodo origen y el nodo destino, si no hay, paramos el algo*"
      ]
    },
    {
      "cell_type": "code",
      "execution_count": 21,
      "metadata": {
        "id": "1j-iMskETaD5"
      },
      "outputs": [],
      "source": [
        "def bfs(origen, destino, grafoCapacidades, resgrafoCapacidades, numeroVertices):\n",
        "  queue = [origen]\n",
        "  paths = {origen: []}\n",
        "  while queue:\n",
        "    u = queue.pop(0)\n",
        "    for v in range(numeroVertices):\n",
        "      if grafoCapacidades[u][v] != 0:\n",
        "        if grafoCapacidades[u][v] - resgrafoCapacidades[u][v] > 0 and v not in paths:\n",
        "          paths[v] = paths[u] + [(u, v)]\n",
        "          if v == destino:\n",
        "            # print(\"Possible camino from \", origen, \" to \", destinoino, \"->\", paths[v])\n",
        "            return paths[v]\n",
        "          queue.append(v)\n",
        "  return None"
      ]
    },
    {
      "attachments": {},
      "cell_type": "markdown",
      "metadata": {
        "id": "jrV1yvMrYwFi"
      },
      "source": [
        "*calculamos el flujo máximo con Edmonds Karp. Iterativamente sacamos el grafo residual en costos y capacidades*"
      ]
    },
    {
      "cell_type": "code",
      "execution_count": 16,
      "metadata": {
        "id": "gfg0Wyi1ZRBA"
      },
      "outputs": [],
      "source": [
        "def edmondsKarp(origen, destino, capacidad, costo, numeroVertices):\n",
        "  resgrafoCapacidades = [[0] * numeroVertices for _ in range(numeroVertices)]\n",
        "  resgrafoCosto = [[0] * numeroVertices for _ in range(numeroVertices)]\n",
        "\n",
        "  while True:\n",
        "    camino = bfs(origen, destino, capacidad, resgrafoCapacidades, numeroVertices)\n",
        "    if not camino:\n",
        "      break\n",
        "        \n",
        "    flujo = min(capacidad[u][v] - resgrafoCapacidades[u][v] for u, v in camino)\n",
        "    # print(\"flujo:\\n\", flujo)\n",
        "    \n",
        "    for u, v in camino:\n",
        "      resgrafoCapacidades[u][v] += flujo\n",
        "      resgrafoCosto[u][v] = costo[u][v]\n",
        "      resgrafoCapacidades[v][u] -= flujo\n",
        "      resgrafoCosto[v][u] = costo[u][v]*-1\n",
        "\n",
        "  return (resgrafoCapacidades, resgrafoCosto)"
      ]
    },
    {
      "attachments": {},
      "cell_type": "markdown",
      "metadata": {
        "id": "lNVS24-JaClr"
      },
      "source": [
        "*Indicamos si hay ciclos negativos en el grafo con el algoritmo Bellman Ford*"
      ]
    },
    {
      "cell_type": "code",
      "execution_count": 17,
      "metadata": {
        "id": "Fc6i-MZ5auDC"
      },
      "outputs": [],
      "source": [
        "def bellmanFord(graph, origen, numeroVertices):\n",
        "  distancias = [sys.maxsize for i in range(numeroVertices)]\n",
        "  prev = [-1 for i in range(numeroVertices)]\n",
        "  distancias[origen] = 0\n",
        "\n",
        "  for i in range(numeroVertices - 1):\n",
        "    for u in range(numeroVertices):\n",
        "        for v in graph[u].keys():\n",
        "          distanciasTemporales = sys.maxsize\n",
        "          \n",
        "          if distancias[u] != sys.maxsize:\n",
        "            distanciasTemporales = distancias[u] + graph[u][v][1]\n",
        "          if distancias[v] > distanciasTemporales:\n",
        "            distancias[v] = distanciasTemporales\n",
        "            prev[v] = u\n",
        "\n",
        "  ciclo = []\n",
        "  for u in range(numeroVertices):\n",
        "    for v in graph[u].keys():\n",
        "      if distancias[v] > distancias[u] + graph[u][v][1]:\n",
        "        C = v\n",
        "        for i in range(numeroVertices):\n",
        "          C = prev[C]\n",
        "        v = C\n",
        "        # temp = v\n",
        "        while True:\n",
        "          ciclo.append(v)\n",
        "          if v == C and len(ciclo) > 1:\n",
        "              break\n",
        "          v = prev[v]\n",
        "        ciclo.reverse()\n",
        "        final_cycle = []\n",
        "        for index in range(len(ciclo) - 1):\n",
        "          final_cycle.append((ciclo[index], ciclo[index + 1]))\n",
        "            \n",
        "        # print(\"\\nNegative ciclo:\\n\", final_cycle)\n",
        "        return final_cycle\n",
        "        \n",
        "  return None\n"
      ]
    },
    {
      "attachments": {},
      "cell_type": "markdown",
      "metadata": {
        "id": "8eJipLZ8brUO"
      },
      "source": [
        "*Cycle cancelling para matriz de adyacencia*"
      ]
    },
    {
      "cell_type": "code",
      "execution_count": 18,
      "metadata": {
        "id": "2Zv1F06-bvRu"
      },
      "outputs": [],
      "source": [
        "def cycleCancelling(origen, destino, grafoCapacidades, grafoCostos, numeroVertices):\n",
        "    resgrafoCapacidades, resgrafoCosto = edmondsKarp(origen, destino, grafoCapacidades, grafoCostos, numeroVertices)\n",
        "\n",
        "    # Ponemos el valor restante para cada arista\n",
        "    for u in range(numeroVertices):\n",
        "      for v in range(len(grafoCapacidades)):\n",
        "        if grafoCapacidades[u][v] != 0:\n",
        "          if resgrafoCapacidades[u][v] > 0:\n",
        "            if u == destino + 1:\n",
        "              resgrafoCapacidades[u][v] = grafoCapacidades[u][v] - resgrafoCapacidades[u][v]\n",
        "              resgrafoCosto[u][v] = 0\n",
        "            else:\n",
        "              resgrafoCapacidades[u][v] = grafoCapacidades[u][v] - resgrafoCapacidades[u][v]\n",
        "              resgrafoCosto[u][v] = grafoCostos[u][v]\n",
        "                        \n",
        "\n",
        "    # Añadimos las aristas no utilizadas al grafo residual\n",
        "    for u in range(numeroVertices):\n",
        "      for v in range(len(grafoCapacidades)):\n",
        "        if grafoCapacidades[u][v] != 0:\n",
        "          if resgrafoCapacidades[v][u] == 0 and resgrafoCosto[v][u] == 0:\n",
        "            resgrafoCapacidades[u][v] = grafoCapacidades[u][v]\n",
        "            resgrafoCosto[u][v] = grafoCostos[u][v]\n",
        "\n",
        "    # Convertimos las matrices residuales en una lista de diccionarios\n",
        "    # Asi, podemos leerlos con el algoritmo de Bellman Ford\n",
        "    grafoResidual = [{} for i in range(numeroVertices)]\n",
        "    for u in range(numeroVertices):\n",
        "      for v in range(numeroVertices):\n",
        "        if resgrafoCapacidades[u][v] != 0 or resgrafoCosto[u][v] != 0:\n",
        "          grafoResidual[u][v] = (abs(resgrafoCapacidades[u][v]), resgrafoCosto[u][v])\n",
        "    # print(\"\\nResidual Graph: \")\n",
        "    # pprint.pprint(grafoResidual)\n",
        "\n",
        "    while True:\n",
        "      ciclo = bellmanFord(grafoResidual, destino, numeroVertices)\n",
        "      if not ciclo:\n",
        "        break\n",
        "          \n",
        "      flujo = min(grafoResidual[u][v][0] for u, v in ciclo)\n",
        "      for u, v in ciclo:\n",
        "        temp = grafoResidual[u][v]\n",
        "        if u in grafoResidual[v].keys():\n",
        "          grafoResidual[v][u] = (grafoResidual[v][u][0] + flujo, grafoResidual[v][u][1])\n",
        "        else:\n",
        "          grafoResidual[v][u] = (flujo, -grafoResidual[u][v][1])\n",
        "        if temp[0] == flujo:\n",
        "          del grafoResidual[u][v]\n",
        "        else:\n",
        "          grafoResidual[u][v] = (grafoResidual[u][v][0] - flujo, grafoResidual[u][v][1])\n",
        "          temp = grafoResidual[u][v]\n",
        "\n",
        "    costoFinal = 0\n",
        "    # print(\"Final flujo is: \")\n",
        "    for u in range(numeroVertices):\n",
        "      for v in grafoResidual[u].keys():\n",
        "        edge = grafoResidual[u][v]\n",
        "        if edge[1] < 0:\n",
        "          #print((v, u), \":\", (edge[0], abs(edge[1])))\n",
        "          print(\"-> Del nodo\", v, \"al nodo\", u, \"se envía un tráfico de\", edge[0], \"con un retardo de\", abs(edge[1]))\n",
        "          costoFinal += (edge[0]) * (abs(edge[1]))\n",
        "\n",
        "    return costoFinal\n"
      ]
    },
    {
      "attachments": {},
      "cell_type": "markdown",
      "metadata": {
        "id": "NtMaT7T_fz2d"
      },
      "source": [
        "*Go*"
      ]
    },
    {
      "cell_type": "code",
      "execution_count": 22,
      "metadata": {
        "colab": {
          "base_uri": "https://localhost:8080/"
        },
        "id": "BTW-riAETXZA",
        "outputId": "81b75eaf-e638-4d63-c9b8-7a5f5eede610"
      },
      "outputs": [
        {
          "name": "stdout",
          "output_type": "stream",
          "text": [
            "Ruta óptima:\n",
            "-> Del nodo 1 al nodo 5 se envía un tráfico de 9 con un retardo de 0.192245058\n",
            "-> Del nodo 9 al nodo 8 se envía un tráfico de 6 con un retardo de 0.122244401\n",
            "-> Del nodo 1 al nodo 8 se envía un tráfico de 2 con un retardo de 0.374331887\n",
            "-> Del nodo 1 al nodo 9 se envía un tráfico de 39 con un retardo de 0.043189676\n",
            "-> Del nodo 5 al nodo 13 se envía un tráfico de 9 con un retardo de 0.301797001\n",
            "-> Del nodo 9 al nodo 13 se envía un tráfico de 17 con un retardo de 0.445052009\n",
            "-> Del nodo 8 al nodo 13 se envía un tráfico de 8 con un retardo de 0.25593562\n",
            "-> Del nodo 9 al nodo 14 se envía un tráfico de 16 con un retardo de 0.314895318\n",
            "-> Del nodo 13 al nodo 18 se envía un tráfico de 21 con un retardo de 0.163697885\n",
            "-> Del nodo 18 al nodo 19 se envía un tráfico de 8 con un retardo de 0.12868042\n",
            "-> Del nodo 13 al nodo 22 se envía un tráfico de 13 con un retardo de 0.16257214\n",
            "-> Del nodo 14 al nodo 22 se envía un tráfico de 16 con un retardo de 0.156101813\n",
            "-> Del nodo 18 al nodo 25 se envía un tráfico de 13 con un retardo de 0.033045545\n",
            "-> Del nodo 19 al nodo 26 se envía un tráfico de 8 con un retardo de 0.027181913\n",
            "-> Del nodo 25 al nodo 26 se envía un tráfico de 13 con un retardo de 0.034375553\n",
            "-> Del nodo 22 al nodo 31 se envía un tráfico de 29 con un retardo de 0.41840783\n",
            "-> Del nodo 26 al nodo 31 se envía un tráfico de 21 con un retardo de 0.35164548\n",
            "\n",
            "Retardo mínimo =  51.955077777\n"
          ]
        }
      ],
      "source": [
        "origen = 0\n",
        "destino = numeroVertices - 1\n",
        "print(\"Ruta óptima:\")\n",
        "#print(\"(Nodo del que sale, nodo al que llega) : (Tráfico que se envía, Retardo)\")\n",
        "costoFinal = cycleCancelling(origen, destino, grafoCapacidades, grafoCostos, numeroVertices)\n",
        "print(\"\\nRetardo mínimo = \", costoFinal)"
      ]
    },
    {
      "attachments": {},
      "cell_type": "markdown",
      "metadata": {
        "id": "uV9IyZUvvgcv"
      },
      "source": [
        "*Algoritmo hecho con base a https://github.com/scheng95/cs51finalproject/blob/master/to_submit/code/4cycle_cancel.py, muchas gracias señores :')*"
      ]
    }
  ],
  "metadata": {
    "colab": {
      "provenance": []
    },
    "kernelspec": {
      "display_name": "Python 3",
      "name": "python3"
    },
    "language_info": {
      "codemirror_mode": {
        "name": "ipython",
        "version": 3
      },
      "file_extension": ".py",
      "mimetype": "text/x-python",
      "name": "python",
      "nbconvert_exporter": "python",
      "pygments_lexer": "ipython3",
      "version": "3.11.2"
    }
  },
  "nbformat": 4,
  "nbformat_minor": 0
}
