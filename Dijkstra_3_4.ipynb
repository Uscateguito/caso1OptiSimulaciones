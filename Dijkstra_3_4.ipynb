{
  "nbformat": 4,
  "nbformat_minor": 0,
  "metadata": {
    "colab": {
      "provenance": []
    },
    "kernelspec": {
      "name": "python3",
      "display_name": "Python 3"
    },
    "language_info": {
      "name": "python"
    }
  },
  "cells": [
    {
      "cell_type": "markdown",
      "source": [
        "# Algoritmo de Dijkstra"
      ],
      "metadata": {
        "id": "-XSX-RF_R84A"
      }
    },
    {
      "cell_type": "markdown",
      "source": [
        "###### Nota: Algoritmo adaptado de https://www.geeksforgeeks.org/python-program-for-dijkstras-shortest-path-algorithm-greedy-algo-7/"
      ],
      "metadata": {
        "id": "uV9IyZUvvgcv"
      }
    },
    {
      "cell_type": "markdown",
      "source": [
        "## Importar librerías"
      ],
      "metadata": {
        "id": "aKAxKwt1VFzd"
      }
    },
    {
      "cell_type": "code",
      "source": [
        "import pandas as pd\n",
        "import sys"
      ],
      "metadata": {
        "id": "9o9jKI2lVIkv"
      },
      "execution_count": null,
      "outputs": []
    },
    {
      "cell_type": "markdown",
      "source": [
        "## Creación de grafo"
      ],
      "metadata": {
        "id": "e0b4y2HvTUTo"
      }
    },
    {
      "cell_type": "code",
      "source": [
        "url = \"https://www.dropbox.com/s/rb7ny43zh4xu1gx/costos.csv?dl=1\"\n",
        "df = pd.read_csv(url, sep = \";\", encoding = 'utf-8', header = None)\n",
        "matrix = df.to_numpy()\n",
        "vertexNum = len(matrix)"
      ],
      "metadata": {
        "id": "BUI7ZW8sXgnE"
      },
      "execution_count": null,
      "outputs": []
    },
    {
      "cell_type": "code",
      "source": [
        "matrix #Costs matrix"
      ],
      "metadata": {
        "colab": {
          "base_uri": "https://localhost:8080/"
        },
        "id": "6VHZL5_JbKw7",
        "outputId": "29debe33-9b73-4fee-e522-c99649e80816"
      },
      "execution_count": null,
      "outputs": [
        {
          "output_type": "execute_result",
          "data": {
            "text/plain": [
              "array([[0.        , 0.        , 0.18229425, ..., 0.        , 0.        ,\n",
              "        0.        ],\n",
              "       [0.        , 0.        , 0.07669622, ..., 0.        , 0.        ,\n",
              "        0.        ],\n",
              "       [0.        , 0.        , 0.        , ..., 0.        , 0.        ,\n",
              "        0.        ],\n",
              "       ...,\n",
              "       [0.        , 0.        , 0.        , ..., 0.        , 0.39882676,\n",
              "        0.        ],\n",
              "       [0.        , 0.        , 0.        , ..., 0.        , 0.        ,\n",
              "        0.        ],\n",
              "       [0.        , 0.        , 0.        , ..., 0.34490101, 0.20142092,\n",
              "        0.        ]])"
            ]
          },
          "metadata": {},
          "execution_count": 36
        }
      ]
    },
    {
      "cell_type": "code",
      "source": [
        "urlCN = \"https://www.dropbox.com/s/m5lorn66axkfz2n/costosNodos.csv?dl=1\"\n",
        "dfCN = pd.read_csv(urlCN, sep = \" \", encoding = 'utf-8', header = None)\n",
        "costsNodes = dfCN[0].to_numpy()"
      ],
      "metadata": {
        "id": "WPCZPrhflxCM"
      },
      "execution_count": null,
      "outputs": []
    },
    {
      "cell_type": "code",
      "source": [
        "costsNodes"
      ],
      "metadata": {
        "colab": {
          "base_uri": "https://localhost:8080/"
        },
        "id": "AyUqVWXAmJwZ",
        "outputId": "3e309fdb-5ae9-4ff4-f413-17f6df27316b"
      },
      "execution_count": null,
      "outputs": [
        {
          "output_type": "execute_result",
          "data": {
            "text/plain": [
              "array([5., 3., 2., 6., 2., 5., 7., 5., 2., 2., 7., 2., 5., 3., 4., 7., 3.,\n",
              "       6., 2., 3., 4., 5., 2., 6., 5., 5., 6., 7., 7., 4., 2., 3., 6., 5.,\n",
              "       6., 2.])"
            ]
          },
          "metadata": {},
          "execution_count": 38
        }
      ]
    },
    {
      "cell_type": "markdown",
      "source": [
        "## Métodos útiles"
      ],
      "metadata": {
        "id": "6QWxqqZUc-kN"
      }
    },
    {
      "cell_type": "markdown",
      "source": [
        "#### Imprimir el camino desde el nodo de origen al nodo de destino"
      ],
      "metadata": {
        "id": "Lpkd7DeHwbz8"
      }
    },
    {
      "cell_type": "code",
      "source": [
        "def printFlow(parent, i): \n",
        "  if parent[i] == -1: \n",
        "    return\n",
        "  printFlow(parent, parent[i])\n",
        "  print(\" \", i + 1, end = \"\")"
      ],
      "metadata": {
        "id": "CUGpR6YcxtZ4"
      },
      "execution_count": null,
      "outputs": []
    },
    {
      "cell_type": "markdown",
      "source": [
        "#### Hallar el vértice con la mínima distancia de los vértices que aún no están en el camino más corto"
      ],
      "metadata": {
        "id": "BIIqIXbxwrq6"
      }
    },
    {
      "cell_type": "code",
      "source": [
        "def minDistance(vertexNum, distances, pathSet):\n",
        "  min = sys.maxsize\n",
        "  for i in range(vertexNum):\n",
        "    if distances[i] < min and pathSet[i] == False:\n",
        "      min = distances[i]\n",
        "      index = i\n",
        "\n",
        "  return index"
      ],
      "metadata": {
        "id": "p_h05WCrxGjm"
      },
      "execution_count": null,
      "outputs": []
    },
    {
      "cell_type": "markdown",
      "source": [
        "#### Método que implementa el algoritmo de dijkstra"
      ],
      "metadata": {
        "id": "U09-DkZXxLCG"
      }
    },
    {
      "cell_type": "code",
      "source": [
        "def dijkstra(vertexNum, matrix, source, dest, costsNodes):\n",
        "  distances = [sys.maxsize for column in range(vertexNum)]\n",
        "  distances[0] = 0\n",
        "  pathSet = [False for column in range(vertexNum)]\n",
        "  pathFlow = [-1 for column in range(vertexNum)]\n",
        "  totalCost = 0\n",
        "\n",
        "  for j in range(vertexNum):\n",
        "    x = minDistance(vertexNum, distances, pathSet)\n",
        "    pathSet[x] = True\n",
        "\n",
        "    for y in range(vertexNum):\n",
        "      if matrix[x][y] > 0 and pathSet[y] == False and distances[y] > distances[x] + matrix[x][y] + costsNodes[x]:\n",
        "        distances[y] = distances[x] + matrix[x][y] + costsNodes[x]\n",
        "        pathFlow[y] = x\n",
        "        if y == dest:\n",
        "          distances[y] += costsNodes[y]\n",
        "\n",
        "  totalCost = distances[dest]\n",
        "\n",
        "  print(\"Nodo origen -> Nodo destino: \", source + 1, \"->\", dest + 1)\n",
        "  print(\"Costo: \", totalCost)\n",
        "  print(\"Ruta: \", source + 1, end = \"\")\n",
        "  printFlow(pathFlow, dest)"
      ],
      "metadata": {
        "id": "cNIIhpQadA02"
      },
      "execution_count": null,
      "outputs": []
    },
    {
      "cell_type": "markdown",
      "source": [
        "## Ejecución"
      ],
      "metadata": {
        "id": "NtMaT7T_fz2d"
      }
    },
    {
      "cell_type": "code",
      "source": [
        "# Caso nodo 31\n",
        "source = 0\n",
        "dest = 30\n",
        "dijkstra(vertexNum, matrix, source, dest, costsNodes)"
      ],
      "metadata": {
        "colab": {
          "base_uri": "https://localhost:8080/"
        },
        "id": "jbLzsD2tfzZV",
        "outputId": "e74ce110-74b4-4ca6-cb38-497f9e1ac8e1"
      },
      "execution_count": null,
      "outputs": [
        {
          "output_type": "stream",
          "name": "stdout",
          "text": [
            "Nodo origen -> Nodo destino:  1 -> 31\n",
            "Costo:  17.932594637\n",
            "Ruta:  1  9  14  22  31"
          ]
        }
      ]
    },
    {
      "cell_type": "code",
      "source": [
        "# Caso nodo 32\n",
        "source = 0\n",
        "dest = 31\n",
        "dijkstra(vertexNum, matrix, source, dest, costsNodes)"
      ],
      "metadata": {
        "colab": {
          "base_uri": "https://localhost:8080/"
        },
        "id": "6NLOGFpEZuib",
        "outputId": "b4c32fb7-22a9-4432-87bb-50e714808fcb"
      },
      "execution_count": null,
      "outputs": [
        {
          "output_type": "stream",
          "name": "stdout",
          "text": [
            "Nodo origen -> Nodo destino:  1 -> 32\n",
            "Costo:  28.144171332\n",
            "Ruta:  1  5  10  12  20  23  28  32"
          ]
        }
      ]
    }
  ]
}