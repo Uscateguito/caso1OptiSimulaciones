{
  "cells": [
    {
      "cell_type": "markdown",
      "metadata": {
        "id": "-XSX-RF_R84A"
      },
      "source": [
        "# Algoritmo de Cycle Cancelling"
      ]
    },
    {
      "cell_type": "markdown",
      "metadata": {
        "id": "uV9IyZUvvgcv"
      },
      "source": [
        "###### Nota: Algoritmo adaptado de https://github.com/scheng95/cs51finalproject/blob/master/to_submit/code/4cycle_cancel.py"
      ]
    },
    {
      "cell_type": "markdown",
      "metadata": {
        "id": "aKAxKwt1VFzd"
      },
      "source": [
        "## Importar librerías"
      ]
    },
    {
      "cell_type": "code",
      "execution_count": 14,
      "metadata": {
        "id": "9o9jKI2lVIkv"
      },
      "outputs": [],
      "source": [
        "import pandas as pd\n",
        "import sys\n",
        "import pprint\n",
        "import time"
      ]
    },
    {
      "cell_type": "markdown",
      "metadata": {
        "id": "e0b4y2HvTUTo"
      },
      "source": [
        "## Creación de grafo"
      ]
    },
    {
      "cell_type": "markdown",
      "metadata": {
        "id": "Hr9nv9q4UouI"
      },
      "source": [
        "#### Matriz de capacidades"
      ]
    },
    {
      "cell_type": "code",
      "execution_count": 16,
      "metadata": {
        "id": "BUI7ZW8sXgnE"
      },
      "outputs": [],
      "source": [
        "dfCaps = pd.read_csv(\"Matrices en CSV/capacidadescanciclos.csv\", sep = \";\", encoding = 'utf-8', header = None)\n",
        "caps = dfCaps.to_numpy()\n",
        "vertexNum = len(caps)"
      ]
    },
    {
      "cell_type": "code",
      "execution_count": 4,
      "metadata": {
        "colab": {
          "base_uri": "https://localhost:8080/"
        },
        "id": "6VHZL5_JbKw7",
        "outputId": "b659fbd8-caf8-413a-efec-98d5c7380c8f"
      },
      "outputs": [
        {
          "data": {
            "text/plain": [
              "array([[ 0, 50,  0, ...,  0,  0,  0],\n",
              "       [ 0,  0,  0, ...,  0,  0,  0],\n",
              "       [ 0,  0,  0, ...,  0,  0,  0],\n",
              "       ...,\n",
              "       [ 0,  0,  0, ...,  0,  0,  0],\n",
              "       [ 0,  0,  0, ..., 25,  0,  0],\n",
              "       [ 0,  0,  0, ...,  0,  0,  0]])"
            ]
          },
          "execution_count": 4,
          "metadata": {},
          "output_type": "execute_result"
        }
      ],
      "source": [
        "caps"
      ]
    },
    {
      "cell_type": "markdown",
      "metadata": {
        "id": "d846mFkwUrem"
      },
      "source": [
        "#### Matriz de costos"
      ]
    },
    {
      "cell_type": "code",
      "execution_count": 17,
      "metadata": {
        "id": "0ull87czUuN7"
      },
      "outputs": [],
      "source": [
        "dfCosts = pd.read_csv(\"Matrices en CSV/costoscanciclos.csv\", sep = \";\", encoding = 'utf-8', header = None)\n",
        "costs = dfCosts.to_numpy()"
      ]
    },
    {
      "cell_type": "code",
      "execution_count": 18,
      "metadata": {
        "colab": {
          "base_uri": "https://localhost:8080/"
        },
        "id": "iMQAfsnCUuN9",
        "outputId": "823e1573-455c-4805-8316-6245ce288dfe"
      },
      "outputs": [
        {
          "data": {
            "text/plain": [
              "array([[0.        , 0.        , 0.        , ..., 0.        , 0.        ,\n",
              "        0.        ],\n",
              "       [0.        , 0.        , 0.        , ..., 0.        , 0.        ,\n",
              "        0.        ],\n",
              "       [0.        , 0.        , 0.        , ..., 0.        , 0.        ,\n",
              "        0.        ],\n",
              "       ...,\n",
              "       [0.        , 0.        , 0.        , ..., 0.        , 0.        ,\n",
              "        0.        ],\n",
              "       [0.        , 0.        , 0.        , ..., 0.20142092, 0.        ,\n",
              "        0.        ],\n",
              "       [0.        , 0.        , 0.        , ..., 0.        , 0.        ,\n",
              "        0.        ]])"
            ]
          },
          "execution_count": 18,
          "metadata": {},
          "output_type": "execute_result"
        }
      ],
      "source": [
        "costs"
      ]
    },
    {
      "cell_type": "markdown",
      "metadata": {
        "id": "6QWxqqZUc-kN"
      },
      "source": [
        "## Métodos útiles"
      ]
    },
    {
      "cell_type": "markdown",
      "metadata": {
        "id": "M7dErLFuVb0O"
      },
      "source": [
        "### Encontrar un camino posible desde el nodo de origen al nodo de destino utilizando el algoritmo BFS"
      ]
    },
    {
      "cell_type": "code",
      "execution_count": 19,
      "metadata": {
        "id": "1j-iMskETaD5"
      },
      "outputs": [],
      "source": [
        "def bfs(source, dest, caps, resCaps, vertexNum):\n",
        "  queue = [source]\n",
        "  paths = {source: []}\n",
        "  while queue:\n",
        "    u = queue.pop(0)\n",
        "    for v in range(vertexNum):\n",
        "      if caps[u][v] != 0:\n",
        "        if caps[u][v] - resCaps[u][v] > 0 and v not in paths:\n",
        "          paths[v] = paths[u] + [(u, v)]\n",
        "          if v == dest:\n",
        "            # print(\"Possible path from \", source, \" to \", dest, \"->\", paths[v])\n",
        "            return paths[v]\n",
        "          queue.append(v)\n",
        "  return None"
      ]
    },
    {
      "cell_type": "markdown",
      "metadata": {
        "id": "jrV1yvMrYwFi"
      },
      "source": [
        "### Calcular el flujo máximo en el grafo con el algoritmo de Edmonds Karp. Dando como resultado el grafo residual en costos y capacidades"
      ]
    },
    {
      "cell_type": "code",
      "execution_count": 9,
      "metadata": {
        "id": "gfg0Wyi1ZRBA"
      },
      "outputs": [],
      "source": [
        "def edmondsKarp(source, dest, cap, cost, vertexNum):\n",
        "  resCap = [[0] * vertexNum for _ in range(vertexNum)]\n",
        "  resCost = [[0] * vertexNum for _ in range(vertexNum)]\n",
        "\n",
        "  while True:\n",
        "    path = bfs(source, dest, cap, resCap, vertexNum)\n",
        "    if not path:\n",
        "      break\n",
        "        \n",
        "    flow = min(cap[u][v] - resCap[u][v] for u, v in path)\n",
        "    # print(\"Flow:\\n\", flow)\n",
        "    \n",
        "    for u, v in path:\n",
        "      resCap[u][v] += flow\n",
        "      resCost[u][v] = cost[u][v]\n",
        "      resCap[v][u] -= flow\n",
        "      resCost[v][u] = cost[u][v]*-1\n",
        "\n",
        "  return (resCap, resCost)"
      ]
    },
    {
      "cell_type": "markdown",
      "metadata": {
        "id": "lNVS24-JaClr"
      },
      "source": [
        "### Encontrar los ciclos negativos en el grafo con el algoritmo Bellman Ford"
      ]
    },
    {
      "cell_type": "code",
      "execution_count": 10,
      "metadata": {
        "id": "Fc6i-MZ5auDC"
      },
      "outputs": [],
      "source": [
        "def bellmanFord(graph, source, vertexNum):\n",
        "  distances = [sys.maxsize for i in range(vertexNum)]\n",
        "  prev = [-1 for i in range(vertexNum)]\n",
        "  distances[source] = 0\n",
        "\n",
        "  for i in range(vertexNum - 1):\n",
        "    for u in range(vertexNum):\n",
        "        for v in graph[u].keys():\n",
        "          tempdist = sys.maxsize\n",
        "          \n",
        "          if distances[u] != sys.maxsize:\n",
        "            tempdist = distances[u] + graph[u][v][1]\n",
        "          if distances[v] > tempdist:\n",
        "            distances[v] = tempdist\n",
        "            prev[v] = u\n",
        "\n",
        "  cycle = []\n",
        "  for u in range(vertexNum):\n",
        "    for v in graph[u].keys():\n",
        "      if distances[v] > distances[u] + graph[u][v][1]:\n",
        "        C = v\n",
        "        for i in range(vertexNum):\n",
        "          C = prev[C]\n",
        "        v = C\n",
        "        # temp = v\n",
        "        while True:\n",
        "          cycle.append(v)\n",
        "          if v == C and len(cycle) > 1:\n",
        "              break\n",
        "          v = prev[v]\n",
        "        cycle.reverse()\n",
        "        final_cycle = []\n",
        "        for index in range(len(cycle) - 1):\n",
        "          final_cycle.append((cycle[index], cycle[index + 1]))\n",
        "            \n",
        "        # print(\"\\nNegative cycle:\\n\", final_cycle)\n",
        "        return final_cycle\n",
        "        \n",
        "  return None\n"
      ]
    },
    {
      "cell_type": "markdown",
      "metadata": {
        "id": "8eJipLZ8brUO"
      },
      "source": [
        "### Método que implementa el algoritmo Cycle Cancelling"
      ]
    },
    {
      "cell_type": "code",
      "execution_count": 12,
      "metadata": {
        "id": "2Zv1F06-bvRu"
      },
      "outputs": [],
      "source": [
        "def cycleCancelling(source, dest, caps, costs, vertexNum):\n",
        "    resCap, resCost = edmondsKarp(source, dest, caps, costs, vertexNum)\n",
        "\n",
        "    # Poner el valor restante para cada arista\n",
        "    for u in range(vertexNum):\n",
        "      for v in range(len(caps)):\n",
        "        if caps[u][v] != 0:\n",
        "          if resCap[u][v] > 0:\n",
        "            if u == dest + 1:\n",
        "              resCap[u][v] = caps[u][v] - resCap[u][v]\n",
        "              resCost[u][v] = 0\n",
        "            else:\n",
        "              resCap[u][v] = caps[u][v] - resCap[u][v]\n",
        "              resCost[u][v] = costs[u][v]\n",
        "                        \n",
        "\n",
        "    # Añadir las aristas no utilizadas al grafo residual\n",
        "    for u in range(vertexNum):\n",
        "      for v in range(len(caps)):\n",
        "        if caps[u][v] != 0:\n",
        "          if resCap[v][u] == 0 and resCost[v][u] == 0:\n",
        "            resCap[u][v] = caps[u][v]\n",
        "            resCost[u][v] = costs[u][v]\n",
        "\n",
        "    # Convertir las matrices residuales en una lista de diccionarios para leerlos desde el método de Bellman Ford\n",
        "    resG = [{} for i in range(vertexNum)]\n",
        "    for u in range(vertexNum):\n",
        "      for v in range(vertexNum):\n",
        "        if resCap[u][v] != 0 or resCost[u][v] != 0:\n",
        "          resG[u][v] = (abs(resCap[u][v]), resCost[u][v])\n",
        "    # print(\"\\nResidual Graph: \")\n",
        "    # pprint.pprint(resG)\n",
        "\n",
        "    while True:\n",
        "      cycle = bellmanFord(resG, dest, vertexNum)\n",
        "      if not cycle:\n",
        "        break\n",
        "          \n",
        "      flow = min(resG[u][v][0] for u, v in cycle)\n",
        "      for u, v in cycle:\n",
        "        temp = resG[u][v]\n",
        "        if u in resG[v].keys():\n",
        "          resG[v][u] = (resG[v][u][0] + flow, resG[v][u][1])\n",
        "        else:\n",
        "          resG[v][u] = (flow, -resG[u][v][1])\n",
        "        if temp[0] == flow:\n",
        "          del resG[u][v]\n",
        "        else:\n",
        "          resG[u][v] = (resG[u][v][0] - flow, resG[u][v][1])\n",
        "          temp = resG[u][v]\n",
        "\n",
        "    finalCost = 0\n",
        "    # print(\"Final flow is: \")\n",
        "    for u in range(vertexNum):\n",
        "      for v in resG[u].keys():\n",
        "        edge = resG[u][v]\n",
        "        if edge[1] < 0:\n",
        "          #print((v, u), \":\", (edge[0], abs(edge[1])))\n",
        "          print(\"-> Del nodo\", v, \"al nodo\", u, \"se envía un tráfico de\", edge[0], \"con un retardo de\", abs(edge[1]))\n",
        "          finalCost += (edge[0]) * (abs(edge[1]))\n",
        "\n",
        "    return finalCost\n"
      ]
    },
    {
      "cell_type": "markdown",
      "metadata": {
        "id": "NtMaT7T_fz2d"
      },
      "source": [
        "## Ejecución"
      ]
    },
    {
      "cell_type": "code",
      "execution_count": 20,
      "metadata": {
        "colab": {
          "base_uri": "https://localhost:8080/"
        },
        "id": "BTW-riAETXZA",
        "outputId": "81b75eaf-e638-4d63-c9b8-7a5f5eede610"
      },
      "outputs": [
        {
          "name": "stdout",
          "output_type": "stream",
          "text": [
            "Ruta óptima:\n",
            "-> Del nodo 1 al nodo 5 se envía un tráfico de 9 con un retardo de 0.192245058\n",
            "-> Del nodo 9 al nodo 8 se envía un tráfico de 6 con un retardo de 0.122244401\n",
            "-> Del nodo 1 al nodo 8 se envía un tráfico de 2 con un retardo de 0.374331887\n",
            "-> Del nodo 1 al nodo 9 se envía un tráfico de 39 con un retardo de 0.043189676\n",
            "-> Del nodo 5 al nodo 13 se envía un tráfico de 9 con un retardo de 0.301797001\n",
            "-> Del nodo 9 al nodo 13 se envía un tráfico de 17 con un retardo de 0.445052009\n",
            "-> Del nodo 8 al nodo 13 se envía un tráfico de 8 con un retardo de 0.25593562\n",
            "-> Del nodo 9 al nodo 14 se envía un tráfico de 16 con un retardo de 0.314895318\n",
            "-> Del nodo 13 al nodo 18 se envía un tráfico de 21 con un retardo de 0.163697885\n",
            "-> Del nodo 18 al nodo 19 se envía un tráfico de 8 con un retardo de 0.12868042\n",
            "-> Del nodo 13 al nodo 22 se envía un tráfico de 13 con un retardo de 0.16257214\n",
            "-> Del nodo 14 al nodo 22 se envía un tráfico de 16 con un retardo de 0.156101813\n",
            "-> Del nodo 18 al nodo 25 se envía un tráfico de 13 con un retardo de 0.033045545\n",
            "-> Del nodo 19 al nodo 26 se envía un tráfico de 8 con un retardo de 0.027181913\n",
            "-> Del nodo 25 al nodo 26 se envía un tráfico de 13 con un retardo de 0.034375553\n",
            "-> Del nodo 22 al nodo 31 se envía un tráfico de 29 con un retardo de 0.41840783\n",
            "-> Del nodo 26 al nodo 31 se envía un tráfico de 21 con un retardo de 0.35164548\n",
            "\n",
            "Retardo mínimo =  51.955077777\n"
          ]
        }
      ],
      "source": [
        "source = 0\n",
        "dest = vertexNum - 1\n",
        "print(\"Ruta óptima:\")\n",
        "#print(\"(Nodo del que sale, nodo al que llega) : (Tráfico que se envía, Retardo)\")\n",
        "finalCost = cycleCancelling(source, dest, caps, costs, vertexNum)\n",
        "print(\"\\nRetardo mínimo = \", finalCost)"
      ]
    }
  ],
  "metadata": {
    "colab": {
      "provenance": []
    },
    "kernelspec": {
      "display_name": "Python 3",
      "name": "python3"
    },
    "language_info": {
      "codemirror_mode": {
        "name": "ipython",
        "version": 3
      },
      "file_extension": ".py",
      "mimetype": "text/x-python",
      "name": "python",
      "nbconvert_exporter": "python",
      "pygments_lexer": "ipython3",
      "version": "3.11.2"
    }
  },
  "nbformat": 4,
  "nbformat_minor": 0
}
