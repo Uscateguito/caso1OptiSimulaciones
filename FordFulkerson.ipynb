{
  "cells": [
    {
      "cell_type": "markdown",
      "metadata": {
        "id": "hWvkDHCpwQQb"
      },
      "source": [
        "# Algoritmo Ford Fulkerson"
      ]
    },
    {
      "cell_type": "markdown",
      "metadata": {
        "id": "z0yvD9roBO5C"
      },
      "source": [
        "##### Nota: Adaptado de https://www.youtube.com/watch?v=_UcOALraATY"
      ]
    },
    {
      "cell_type": "markdown",
      "metadata": {
        "id": "aKAxKwt1VFzd"
      },
      "source": [
        "## Importar librerías"
      ]
    },
    {
      "cell_type": "code",
      "execution_count": 13,
      "metadata": {
        "id": "9o9jKI2lVIkv"
      },
      "outputs": [],
      "source": [
        "import pandas as pd\n",
        "import sys"
      ]
    },
    {
      "cell_type": "markdown",
      "metadata": {
        "id": "e0b4y2HvTUTo"
      },
      "source": [
        "## Creación de grafo"
      ]
    },
    {
      "cell_type": "code",
      "execution_count": 14,
      "metadata": {
        "id": "BUI7ZW8sXgnE"
      },
      "outputs": [],
      "source": [
        "dfCaps = pd.read_csv(\"Matrices en CSV/capacidadesmax.csv\", sep = \";\", encoding = 'utf-8', header = None)\n",
        "caps = dfCaps.to_numpy()\n",
        "vertexNum = len(caps)"
      ]
    },
    {
      "cell_type": "code",
      "execution_count": 5,
      "metadata": {
        "colab": {
          "base_uri": "https://localhost:8080/"
        },
        "id": "6VHZL5_JbKw7",
        "outputId": "e1c438d0-861f-4f53-e5f3-f5c3fd1d20c4"
      },
      "outputs": [
        {
          "data": {
            "text/plain": [
              "array([[ 0,  0, 36, ...,  0,  0,  0],\n",
              "       [ 0,  0, 35, ...,  0,  0,  0],\n",
              "       [ 0,  0,  0, ...,  0,  0,  0],\n",
              "       ...,\n",
              "       [ 0,  0,  0, ...,  0,  0,  0],\n",
              "       [ 0,  0,  0, ..., 25,  0,  0],\n",
              "       [ 0,  0,  0, ...,  0,  0,  0]])"
            ]
          },
          "execution_count": 5,
          "metadata": {},
          "output_type": "execute_result"
        }
      ],
      "source": [
        "caps #Caps matrix"
      ]
    },
    {
      "cell_type": "code",
      "execution_count": 15,
      "metadata": {
        "id": "2tTsq24qgyI4"
      },
      "outputs": [],
      "source": [
        "dfCosts = pd.read_csv(\"Matrices en CSV/costosmax.csv\", sep = \";\", encoding = 'utf-8', header = None)\n",
        "costs = dfCosts.to_numpy()\n",
        "vertexNum = len(costs)"
      ]
    },
    {
      "cell_type": "code",
      "execution_count": 16,
      "metadata": {
        "colab": {
          "base_uri": "https://localhost:8080/"
        },
        "id": "eSAMI-bwgyI4",
        "outputId": "bc2a6cea-938d-457b-b3be-95845b98882e"
      },
      "outputs": [
        {
          "data": {
            "text/plain": [
              "array([[0.        , 0.        , 0.18229425, ..., 0.        , 0.        ,\n",
              "        0.        ],\n",
              "       [0.        , 0.        , 0.07669622, ..., 0.        , 0.        ,\n",
              "        0.        ],\n",
              "       [0.        , 0.        , 0.        , ..., 0.        , 0.        ,\n",
              "        0.        ],\n",
              "       ...,\n",
              "       [0.        , 0.        , 0.        , ..., 0.        , 0.        ,\n",
              "        0.        ],\n",
              "       [0.        , 0.        , 0.        , ..., 0.20142092, 0.        ,\n",
              "        0.        ],\n",
              "       [0.        , 0.        , 0.        , ..., 0.        , 0.        ,\n",
              "        0.        ]])"
            ]
          },
          "execution_count": 16,
          "metadata": {},
          "output_type": "execute_result"
        }
      ],
      "source": [
        "costs #Costs matrix"
      ]
    },
    {
      "cell_type": "markdown",
      "metadata": {
        "id": "6QWxqqZUc-kN"
      },
      "source": [
        "## Métodos útiles"
      ]
    },
    {
      "cell_type": "markdown",
      "metadata": {
        "id": "ALtdp3bMB3tE"
      },
      "source": [
        "### Encontrar si hay un camino posible desde el nodo de origen al nodo de destino utilizando el algoritmo BFS"
      ]
    },
    {
      "cell_type": "code",
      "execution_count": 9,
      "metadata": {
        "id": "cNIIhpQadA02"
      },
      "outputs": [],
      "source": [
        "def bfs(caps, vertexNum, source, dest, parent):\n",
        "  visited = [False]*(vertexNum)\n",
        "  queue = []\n",
        "  queue.append(source)\n",
        "  visited[source] = True\n",
        "\n",
        "  while queue:\n",
        "    u = queue.pop(0)\n",
        "\n",
        "    for ind, val in enumerate(caps[u]):\n",
        "      if visited[ind] == False and val > 0:\n",
        "        queue.append(ind)\n",
        "        visited[ind] = True\n",
        "        parent[ind] = u\n",
        "        if ind == dest:\n",
        "          return True\n",
        "\n",
        "  return False"
      ]
    },
    {
      "cell_type": "markdown",
      "metadata": {
        "id": "VWlDEgXWFF1s"
      },
      "source": [
        "### Encuentra el flujo máximo del nodo de inicio al nodo de fin utilizando el algoritmo Ford Fulkerson"
      ]
    },
    {
      "cell_type": "code",
      "execution_count": 10,
      "metadata": {
        "id": "7_Mlk1tuFGzM"
      },
      "outputs": [],
      "source": [
        "def fordFulkerson(caps, costs, vertexNum, source, dest):\n",
        "  parent = [-1]*(vertexNum)\n",
        "  maxFlow = 0\n",
        "  totalCost = 0\n",
        "\n",
        "  while bfs(caps, vertexNum, source, dest, parent) :\n",
        "    pathFlow = sys.maxsize\n",
        "    s = dest\n",
        "    while(s !=  source):\n",
        "      pathFlow = min (pathFlow, caps[parent[s]][s])\n",
        "      s = parent[s]\n",
        "\n",
        "    maxFlow +=  pathFlow\n",
        "    v = dest\n",
        "    while(v !=  source):\n",
        "      u = parent[v]\n",
        "      totalCost += (costs[u][v] * pathFlow)\n",
        "      caps[u][v] -= pathFlow\n",
        "      caps[v][u] += pathFlow\n",
        "      v = parent[v]\n",
        "      \n",
        "  return maxFlow, totalCost"
      ]
    },
    {
      "cell_type": "markdown",
      "metadata": {
        "id": "NtMaT7T_fz2d"
      },
      "source": [
        "## Ejecución"
      ]
    },
    {
      "cell_type": "code",
      "execution_count": 17,
      "metadata": {
        "colab": {
          "base_uri": "https://localhost:8080/"
        },
        "id": "jbLzsD2tfzZV",
        "outputId": "43deed88-e6ee-431d-a1d6-c91cc58fd1ec"
      },
      "outputs": [
        {
          "name": "stdout",
          "output_type": "stream",
          "text": [
            "El tráfico máximo es 154\n",
            "El retardo del flujo maximo es 277.654435013\n"
          ]
        }
      ],
      "source": [
        "maxFlow, totalCost = fordFulkerson(caps, costs, vertexNum, 0, vertexNum - 1)\n",
        "print(\"El tráfico máximo es\", maxFlow)\n",
        "print(\"El retardo del flujo maximo es\", totalCost)"
      ]
    }
  ],
  "metadata": {
    "colab": {
      "provenance": []
    },
    "kernelspec": {
      "display_name": "Python 3",
      "name": "python3"
    },
    "language_info": {
      "codemirror_mode": {
        "name": "ipython",
        "version": 3
      },
      "file_extension": ".py",
      "mimetype": "text/x-python",
      "name": "python",
      "nbconvert_exporter": "python",
      "pygments_lexer": "ipython3",
      "version": "3.11.2"
    }
  },
  "nbformat": 4,
  "nbformat_minor": 0
}
