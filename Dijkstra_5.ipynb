{
  "nbformat": 4,
  "nbformat_minor": 0,
  "metadata": {
    "colab": {
      "provenance": []
    },
    "kernelspec": {
      "name": "python3",
      "display_name": "Python 3"
    },
    "language_info": {
      "name": "python"
    }
  },
  "cells": [
    {
      "cell_type": "markdown",
      "source": [
        "# Algoritmo de Dijkstra"
      ],
      "metadata": {
        "id": "-XSX-RF_R84A"
      }
    },
    {
      "cell_type": "markdown",
      "source": [
        "###### Nota: Algoritmo adaptado de https://www.geeksforgeeks.org/python-program-for-dijkstras-shortest-path-algorithm-greedy-algo-7/"
      ],
      "metadata": {
        "id": "uV9IyZUvvgcv"
      }
    },
    {
      "cell_type": "markdown",
      "source": [
        "## Importar librerías"
      ],
      "metadata": {
        "id": "aKAxKwt1VFzd"
      }
    },
    {
      "cell_type": "code",
      "source": [
        "import pandas as pd\n",
        "import sys"
      ],
      "metadata": {
        "id": "9o9jKI2lVIkv"
      },
      "execution_count": null,
      "outputs": []
    },
    {
      "cell_type": "markdown",
      "source": [
        "## Creación de grafo"
      ],
      "metadata": {
        "id": "e0b4y2HvTUTo"
      }
    },
    {
      "cell_type": "code",
      "source": [
        "url = \"https://www.dropbox.com/s/rb7ny43zh4xu1gx/costos.csv?dl=1\"\n",
        "df = pd.read_csv(url, sep = \";\", encoding = 'utf-8', header = None)\n",
        "matrix = df.to_numpy()\n",
        "vertexNum = len(matrix)"
      ],
      "metadata": {
        "id": "BUI7ZW8sXgnE"
      },
      "execution_count": null,
      "outputs": []
    },
    {
      "cell_type": "code",
      "source": [
        "matrix #Costs matrix"
      ],
      "metadata": {
        "colab": {
          "base_uri": "https://localhost:8080/"
        },
        "id": "6VHZL5_JbKw7",
        "outputId": "a679a67e-0771-49be-c12f-931237a6cce5"
      },
      "execution_count": null,
      "outputs": [
        {
          "output_type": "execute_result",
          "data": {
            "text/plain": [
              "array([[0.        , 0.        , 0.18229425, ..., 0.        , 0.        ,\n",
              "        0.        ],\n",
              "       [0.        , 0.        , 0.07669622, ..., 0.        , 0.        ,\n",
              "        0.        ],\n",
              "       [0.        , 0.        , 0.        , ..., 0.        , 0.        ,\n",
              "        0.        ],\n",
              "       ...,\n",
              "       [0.        , 0.        , 0.        , ..., 0.        , 0.39882676,\n",
              "        0.        ],\n",
              "       [0.        , 0.        , 0.        , ..., 0.        , 0.        ,\n",
              "        0.        ],\n",
              "       [0.        , 0.        , 0.        , ..., 0.34490101, 0.20142092,\n",
              "        0.        ]])"
            ]
          },
          "metadata": {},
          "execution_count": 180
        }
      ]
    },
    {
      "cell_type": "code",
      "source": [
        "urlCN = \"https://www.dropbox.com/s/m5lorn66axkfz2n/costosNodos.csv?dl=1\"\n",
        "dfCN = pd.read_csv(urlCN, sep = \" \", encoding = 'utf-8', header = None)\n",
        "costsNodes = dfCN[0].to_numpy()"
      ],
      "metadata": {
        "id": "WPCZPrhflxCM"
      },
      "execution_count": null,
      "outputs": []
    },
    {
      "cell_type": "code",
      "source": [
        "costsNodes"
      ],
      "metadata": {
        "colab": {
          "base_uri": "https://localhost:8080/"
        },
        "id": "AyUqVWXAmJwZ",
        "outputId": "af0c2faa-5e83-4a5e-cd87-36f32abd9ada"
      },
      "execution_count": null,
      "outputs": [
        {
          "output_type": "execute_result",
          "data": {
            "text/plain": [
              "array([5., 3., 2., 6., 2., 5., 7., 5., 2., 2., 7., 2., 5., 3., 4., 7., 3.,\n",
              "       6., 2., 3., 4., 5., 2., 6., 5., 5., 6., 7., 7., 4., 2., 3., 6., 5.,\n",
              "       6., 2.])"
            ]
          },
          "metadata": {},
          "execution_count": 182
        }
      ]
    },
    {
      "cell_type": "markdown",
      "source": [
        "## Métodos útiles"
      ],
      "metadata": {
        "id": "6QWxqqZUc-kN"
      }
    },
    {
      "cell_type": "markdown",
      "source": [
        "#### Imprimir el camino desde el nodo de origen al nodo de destino"
      ],
      "metadata": {
        "id": "Lpkd7DeHwbz8"
      }
    },
    {
      "cell_type": "code",
      "source": [
        "def printFlow(parent, i): \n",
        "  if parent[i] == -1: \n",
        "    return\n",
        "  printFlow(parent, parent[i])\n",
        "  print(\" \", i + 1, end = \"\")"
      ],
      "metadata": {
        "id": "CUGpR6YcxtZ4"
      },
      "execution_count": null,
      "outputs": []
    },
    {
      "cell_type": "markdown",
      "source": [
        "#### Hallar el vértice con la mínima distancia de los vértices que aún no están en el camino más corto"
      ],
      "metadata": {
        "id": "BIIqIXbxwrq6"
      }
    },
    {
      "cell_type": "code",
      "source": [
        "def minDistance(vertexNum, distances, pathSet):\n",
        "  min = sys.maxsize\n",
        "  for i in range(vertexNum):\n",
        "    if distances[i] < min and pathSet[i] == False:\n",
        "      min = distances[i]\n",
        "      index = i\n",
        "\n",
        "  return index"
      ],
      "metadata": {
        "id": "p_h05WCrxGjm"
      },
      "execution_count": null,
      "outputs": []
    },
    {
      "cell_type": "markdown",
      "source": [
        "#### Método que implementa el algoritmo de dijkstra"
      ],
      "metadata": {
        "id": "U09-DkZXxLCG"
      }
    },
    {
      "cell_type": "code",
      "source": [
        "def dijkstra(vertexNum, matrix, source, dest, costsNodes):\n",
        "  found = False\n",
        "  while not found:\n",
        "    distances = [sys.maxsize for column in range(vertexNum)]\n",
        "    distances[0] = 0\n",
        "    pathSet = [False for column in range(vertexNum)]\n",
        "    pathFlow = [-1 for column in range(vertexNum)]\n",
        "    totalCost = 0\n",
        "\n",
        "    for j in range(vertexNum):\n",
        "      x = minDistance(vertexNum, distances, pathSet)\n",
        "      pathSet[x] = True\n",
        "\n",
        "      for y in range(vertexNum):\n",
        "        if matrix[x][y] > 0 and pathSet[y] == False and distances[y] > distances[x] + matrix[x][y]:\n",
        "          distances[y] = distances[x] + matrix[x][y]\n",
        "          pathFlow[y] = x\n",
        "\n",
        "    totalCost = distances[dest]\n",
        "\n",
        "    if totalCost > 1:\n",
        "      found = True\n",
        "    else:\n",
        "      current = dest\n",
        "      while current != source:\n",
        "        prev = pathFlow[current]\n",
        "        matrix[prev][current] = sys.maxsize\n",
        "        current = prev\n",
        "\n",
        "  finalCost = totalCost\n",
        "  current = dest\n",
        "  while current != source:\n",
        "    prev = pathFlow[current]\n",
        "    # print(prev + 1, costsNodes[prev])\n",
        "    finalCost += costsNodes[prev]\n",
        "    current = prev\n",
        "  finalCost += costsNodes[dest]\n",
        "\n",
        "  print(\"Nodo origen -> Nodo destino: \", source + 1, \"->\", dest + 1)\n",
        "  print(\"Costo sin retardo de nodos: \", totalCost)\n",
        "  print(\"Costo con retardo de nodos: \", finalCost)\n",
        "  print(\"Ruta: \", source + 1, end = \"\")\n",
        "  printFlow(pathFlow, dest)"
      ],
      "metadata": {
        "id": "cNIIhpQadA02"
      },
      "execution_count": null,
      "outputs": []
    },
    {
      "cell_type": "markdown",
      "source": [
        "## Ejecución"
      ],
      "metadata": {
        "id": "NtMaT7T_fz2d"
      }
    },
    {
      "cell_type": "code",
      "source": [
        "# Caso nodo 31\n",
        "source = 0\n",
        "dest = 30\n",
        "dijkstra(vertexNum, matrix, source, dest, costsNodes)"
      ],
      "metadata": {
        "colab": {
          "base_uri": "https://localhost:8080/"
        },
        "id": "jbLzsD2tfzZV",
        "outputId": "20a9acae-c486-422b-b62c-226ad2e9a242"
      },
      "execution_count": null,
      "outputs": [
        {
          "output_type": "stream",
          "name": "stdout",
          "text": [
            "Nodo origen -> Nodo destino:  1 -> 31\n",
            "Costo sin retardo de nodos:  1.076806522\n",
            "Costo con retardo de nodos:  31.076806522\n",
            "Ruta:  1  5  13  18  25  26  31"
          ]
        }
      ]
    },
    {
      "cell_type": "code",
      "source": [
        "# Caso nodo 32\n",
        "source = 0\n",
        "dest = 31\n",
        "matrix = df.to_numpy() #Reset matrix\n",
        "dijkstra(vertexNum, matrix, source, dest, costsNodes)"
      ],
      "metadata": {
        "colab": {
          "base_uri": "https://localhost:8080/"
        },
        "id": "6NLOGFpEZuib",
        "outputId": "3e1bf601-0f0c-4bea-d006-6f30a577b5c1"
      },
      "execution_count": null,
      "outputs": [
        {
          "output_type": "stream",
          "name": "stdout",
          "text": [
            "Nodo origen -> Nodo destino:  1 -> 32\n",
            "Costo sin retardo de nodos:  1.225727044\n",
            "Costo con retardo de nodos:  28.225727044\n",
            "Ruta:  1  9  14  22  31  28  32"
          ]
        }
      ]
    }
  ]
}